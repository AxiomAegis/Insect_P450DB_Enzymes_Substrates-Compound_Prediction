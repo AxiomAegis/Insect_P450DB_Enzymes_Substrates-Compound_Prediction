{
 "cells": [
  {
   "cell_type": "code",
   "execution_count": 1,
   "metadata": {
    "deletable": true,
    "editable": true,
    "execution": {
     "iopub.execute_input": "2025-01-23T02:30:13.246888Z",
     "iopub.status.busy": "2025-01-23T02:30:13.246144Z",
     "iopub.status.idle": "2025-01-23T02:30:13.254780Z",
     "shell.execute_reply": "2025-01-23T02:30:13.253161Z",
     "shell.execute_reply.started": "2025-01-23T02:30:13.246825Z"
    },
    "frozen": false
   },
   "outputs": [],
   "source": [
    "import os\n",
    "os.environ[\"CUDA_VISIBLE_DEVICES\"]=\"1\""
   ]
  },
  {
   "cell_type": "code",
   "execution_count": 2,
   "metadata": {
    "deletable": true,
    "editable": true,
    "execution": {
     "iopub.execute_input": "2025-01-23T02:30:14.015531Z",
     "iopub.status.busy": "2025-01-23T02:30:14.014013Z",
     "iopub.status.idle": "2025-01-23T02:30:18.246702Z",
     "shell.execute_reply": "2025-01-23T02:30:18.245820Z",
     "shell.execute_reply.started": "2025-01-23T02:30:14.015469Z"
    },
    "frozen": false
   },
   "outputs": [
    {
     "name": "stderr",
     "output_type": "stream",
     "text": [
      "/root/miniforge3/envs/ProSmi/lib/python3.8/site-packages/tqdm/auto.py:21: TqdmWarning: IProgress not found. Please update jupyter and ipywidgets. See https://ipywidgets.readthedocs.io/en/stable/user_install.html\n",
      "  from .autonotebook import tqdm as notebook_tqdm\n"
     ]
    }
   ],
   "source": [
    "import sys\n",
    "sys.path.insert(0, 'code')\n",
    "from prediction import ESP_predicton"
   ]
  },
  {
   "cell_type": "code",
   "execution_count": 3,
   "metadata": {
    "deletable": true,
    "editable": true,
    "execution": {
     "iopub.execute_input": "2025-01-23T02:30:18.254524Z",
     "iopub.status.busy": "2025-01-23T02:30:18.254340Z",
     "iopub.status.idle": "2025-01-23T02:30:18.307394Z",
     "shell.execute_reply": "2025-01-23T02:30:18.306768Z",
     "shell.execute_reply.started": "2025-01-23T02:30:18.254506Z"
    },
    "frozen": false,
    "scrolled": true
   },
   "outputs": [
    {
     "data": {
      "text/html": [
       "<div>\n",
       "<style scoped>\n",
       "    .dataframe tbody tr th:only-of-type {\n",
       "        vertical-align: middle;\n",
       "    }\n",
       "\n",
       "    .dataframe tbody tr th {\n",
       "        vertical-align: top;\n",
       "    }\n",
       "\n",
       "    .dataframe thead th {\n",
       "        text-align: right;\n",
       "    }\n",
       "</style>\n",
       "<table border=\"1\" class=\"dataframe\">\n",
       "  <thead>\n",
       "    <tr style=\"text-align: right;\">\n",
       "      <th></th>\n",
       "      <th>Protein</th>\n",
       "      <th>Metabolite</th>\n",
       "      <th>来源</th>\n",
       "      <th>所属</th>\n",
       "      <th>output</th>\n",
       "    </tr>\n",
       "  </thead>\n",
       "  <tbody>\n",
       "    <tr>\n",
       "      <th>0</th>\n",
       "      <td>MVLSPAIEILEACQIHPDVDSKIESTLQDSIALSYFDLQYLQFPPTERLLFYEVRPPVFADAILSNLKRSLSLTLGYFRPIAGKLVWPSDSNEPFI...</td>\n",
       "      <td>C1=CC=C(C=C1)O[C@H]2[C@@H]([C@H]([C@@H]([C@H](O2)CO)O)O)O</td>\n",
       "      <td>Phenyl-D-glucoside</td>\n",
       "      <td>T2</td>\n",
       "      <td>0</td>\n",
       "    </tr>\n",
       "    <tr>\n",
       "      <th>1</th>\n",
       "      <td>MVLSPAIEILEACQIHPDVDSKIESTLQDSIALSYFDLQYLQFPPTERLLFYEVRPPVFADAILSNLKRSLSLTLGYFRPIAGKLVWPSDSNEPFI...</td>\n",
       "      <td>C1=CC(=CC=C1[N+](=O)[O-])O[C@H]2[C@@H]([C@H]([C@@H]([C@H](O2)CO)O)O)O</td>\n",
       "      <td>4-nitrophenyl -D-glucoside</td>\n",
       "      <td>T2</td>\n",
       "      <td>0</td>\n",
       "    </tr>\n",
       "    <tr>\n",
       "      <th>2</th>\n",
       "      <td>MVLSPAIEILEACQIHPDVDSKIESTLQDSIALSYFDLQYLQFPPTERLLFYEVRPPVFADAILSNLKRSLSLTLGYFRPIAGKLVWPSDSNEPFI...</td>\n",
       "      <td>CC1=CC(=O)OC2=C1C=CC(=C2)O[C@H]3[C@@H]([C@H]([C@@H]([C@H](O3)CO)O)O)O</td>\n",
       "      <td>4-methylumbelliferone glucoside</td>\n",
       "      <td>T2</td>\n",
       "      <td>0</td>\n",
       "    </tr>\n",
       "    <tr>\n",
       "      <th>3</th>\n",
       "      <td>MVLSPAIEILEACQIHPDVDSKIESTLQDSIALSYFDLQYLQFPPTERLLFYEVRPPVFADAILSNLKRSLSLTLGYFRPIAGKLVWPSDSNEPFI...</td>\n",
       "      <td>C1=CC(=CC=C1CCC(=O)C2=C(C=C(C=C2O[C@H]3[C@@H]([C@H]([C@@H]([C@H](O3)CO)O)O)O)O)O)O</td>\n",
       "      <td>Phlorizin</td>\n",
       "      <td>T2</td>\n",
       "      <td>0</td>\n",
       "    </tr>\n",
       "    <tr>\n",
       "      <th>4</th>\n",
       "      <td>MVLSPAIEILEACQIHPDVDSKIESTLQDSIALSYFDLQYLQFPPTERLLFYEVRPPVFADAILSNLKRSLSLTLGYFRPIAGKLVWPSDSNEPFI...</td>\n",
       "      <td>C1=CC(=CC=C1C2=C(C(=O)C3=C(C=C(C=C3O2)O[C@H]4[C@@H]([C@H]([C@@H]([C@H](O4)CO)O)O)O)O)O)O</td>\n",
       "      <td>Rhaponticin</td>\n",
       "      <td>T2</td>\n",
       "      <td>1</td>\n",
       "    </tr>\n",
       "    <tr>\n",
       "      <th>...</th>\n",
       "      <td>...</td>\n",
       "      <td>...</td>\n",
       "      <td>...</td>\n",
       "      <td>...</td>\n",
       "      <td>...</td>\n",
       "    </tr>\n",
       "    <tr>\n",
       "      <th>2433</th>\n",
       "      <td>MSISSSVAVLNVVQVSPPTAPVNNAFQDRISLTHFDLLALRAPPNQRLFFYETHLPISAFAETVIPKLRDSLSLTLQNFRPLAGTLIWSLHSDEPY...</td>\n",
       "      <td>C1=CC(=CC=C1C=CC(=O)C2=C(C=C(C=C2O)O)O)O</td>\n",
       "      <td>代谢组</td>\n",
       "      <td>T1</td>\n",
       "      <td>0</td>\n",
       "    </tr>\n",
       "    <tr>\n",
       "      <th>2435</th>\n",
       "      <td>MSISSSVAVLNVVQVSPPTAPVNNAFQDRISLTHFDLLALRAPPNQRLFFYETHLPISAFAETVIPKLRDSLSLTLQNFRPLAGTLIWSLHSDEPY...</td>\n",
       "      <td>C1=C(C=C(C(=C1O)O)O)C2=C(C(=O)C3=C(C=C(C=C3O2)O)O)OC4C(C(C(C(O4)CO)O)O)O</td>\n",
       "      <td>代谢组</td>\n",
       "      <td>T1</td>\n",
       "      <td>0</td>\n",
       "    </tr>\n",
       "    <tr>\n",
       "      <th>2436</th>\n",
       "      <td>MSISSSVAVLNVVQVSPPTAPVNNAFQDRISLTHFDLLALRAPPNQRLFFYETHLPISAFAETVIPKLRDSLSLTLQNFRPLAGTLIWSLHSDEPY...</td>\n",
       "      <td>CC1C(C(C(C(O1)OCC2C(C(C(C(O2)OC3=CC(=C4C(=C3)OC(=C(C4=O)O)C5=CC(=C(C=C5)O)O)O)O)O)O)O)O)O</td>\n",
       "      <td>代谢组</td>\n",
       "      <td>T1</td>\n",
       "      <td>0</td>\n",
       "    </tr>\n",
       "    <tr>\n",
       "      <th>2437</th>\n",
       "      <td>MSISSSVAVLNVVQVSPPTAPVNNAFQDRISLTHFDLLALRAPPNQRLFFYETHLPISAFAETVIPKLRDSLSLTLQNFRPLAGTLIWSLHSDEPY...</td>\n",
       "      <td>COC1=C(C=C(C=C1)C2CC(=O)C3=C(O2)C=C(C=C3OC4C(C(C(C(O4)CO)O)O)O)O)O</td>\n",
       "      <td>代谢组</td>\n",
       "      <td>T1</td>\n",
       "      <td>0</td>\n",
       "    </tr>\n",
       "    <tr>\n",
       "      <th>2438</th>\n",
       "      <td>MSISSSVAVLNVVQVSPPTAPVNNAFQDRISLTHFDLLALRAPPNQRLFFYETHLPISAFAETVIPKLRDSLSLTLQNFRPLAGTLIWSLHSDEPY...</td>\n",
       "      <td>C1[C@H](OC2=CC(=CC(=C2C1=O)O)O)C3=CC(=C(C=C3)O)O??</td>\n",
       "      <td>代谢组</td>\n",
       "      <td>T1</td>\n",
       "      <td>0</td>\n",
       "    </tr>\n",
       "  </tbody>\n",
       "</table>\n",
       "<p>2435 rows × 5 columns</p>\n",
       "</div>"
      ],
      "text/plain": [
       "                                                                                                  Protein  \\\n",
       "0     MVLSPAIEILEACQIHPDVDSKIESTLQDSIALSYFDLQYLQFPPTERLLFYEVRPPVFADAILSNLKRSLSLTLGYFRPIAGKLVWPSDSNEPFI...   \n",
       "1     MVLSPAIEILEACQIHPDVDSKIESTLQDSIALSYFDLQYLQFPPTERLLFYEVRPPVFADAILSNLKRSLSLTLGYFRPIAGKLVWPSDSNEPFI...   \n",
       "2     MVLSPAIEILEACQIHPDVDSKIESTLQDSIALSYFDLQYLQFPPTERLLFYEVRPPVFADAILSNLKRSLSLTLGYFRPIAGKLVWPSDSNEPFI...   \n",
       "3     MVLSPAIEILEACQIHPDVDSKIESTLQDSIALSYFDLQYLQFPPTERLLFYEVRPPVFADAILSNLKRSLSLTLGYFRPIAGKLVWPSDSNEPFI...   \n",
       "4     MVLSPAIEILEACQIHPDVDSKIESTLQDSIALSYFDLQYLQFPPTERLLFYEVRPPVFADAILSNLKRSLSLTLGYFRPIAGKLVWPSDSNEPFI...   \n",
       "...                                                                                                   ...   \n",
       "2433  MSISSSVAVLNVVQVSPPTAPVNNAFQDRISLTHFDLLALRAPPNQRLFFYETHLPISAFAETVIPKLRDSLSLTLQNFRPLAGTLIWSLHSDEPY...   \n",
       "2435  MSISSSVAVLNVVQVSPPTAPVNNAFQDRISLTHFDLLALRAPPNQRLFFYETHLPISAFAETVIPKLRDSLSLTLQNFRPLAGTLIWSLHSDEPY...   \n",
       "2436  MSISSSVAVLNVVQVSPPTAPVNNAFQDRISLTHFDLLALRAPPNQRLFFYETHLPISAFAETVIPKLRDSLSLTLQNFRPLAGTLIWSLHSDEPY...   \n",
       "2437  MSISSSVAVLNVVQVSPPTAPVNNAFQDRISLTHFDLLALRAPPNQRLFFYETHLPISAFAETVIPKLRDSLSLTLQNFRPLAGTLIWSLHSDEPY...   \n",
       "2438  MSISSSVAVLNVVQVSPPTAPVNNAFQDRISLTHFDLLALRAPPNQRLFFYETHLPISAFAETVIPKLRDSLSLTLQNFRPLAGTLIWSLHSDEPY...   \n",
       "\n",
       "                                                                                     Metabolite  \\\n",
       "0                                     C1=CC=C(C=C1)O[C@H]2[C@@H]([C@H]([C@@H]([C@H](O2)CO)O)O)O   \n",
       "1                         C1=CC(=CC=C1[N+](=O)[O-])O[C@H]2[C@@H]([C@H]([C@@H]([C@H](O2)CO)O)O)O   \n",
       "2                         CC1=CC(=O)OC2=C1C=CC(=C2)O[C@H]3[C@@H]([C@H]([C@@H]([C@H](O3)CO)O)O)O   \n",
       "3            C1=CC(=CC=C1CCC(=O)C2=C(C=C(C=C2O[C@H]3[C@@H]([C@H]([C@@H]([C@H](O3)CO)O)O)O)O)O)O   \n",
       "4      C1=CC(=CC=C1C2=C(C(=O)C3=C(C=C(C=C3O2)O[C@H]4[C@@H]([C@H]([C@@H]([C@H](O4)CO)O)O)O)O)O)O   \n",
       "...                                                                                         ...   \n",
       "2433                                                   C1=CC(=CC=C1C=CC(=O)C2=C(C=C(C=C2O)O)O)O   \n",
       "2435                   C1=C(C=C(C(=C1O)O)O)C2=C(C(=O)C3=C(C=C(C=C3O2)O)O)OC4C(C(C(C(O4)CO)O)O)O   \n",
       "2436  CC1C(C(C(C(O1)OCC2C(C(C(C(O2)OC3=CC(=C4C(=C3)OC(=C(C4=O)O)C5=CC(=C(C=C5)O)O)O)O)O)O)O)O)O   \n",
       "2437                         COC1=C(C=C(C=C1)C2CC(=O)C3=C(O2)C=C(C=C3OC4C(C(C(C(O4)CO)O)O)O)O)O   \n",
       "2438                                         C1[C@H](OC2=CC(=CC(=C2C1=O)O)O)C3=CC(=C(C=C3)O)O??   \n",
       "\n",
       "                                   来源  所属  output  \n",
       "0                  Phenyl-D-glucoside  T2       0  \n",
       "1          4-nitrophenyl -D-glucoside  T2       0  \n",
       "2     4-methylumbelliferone glucoside  T2       0  \n",
       "3                           Phlorizin  T2       0  \n",
       "4                         Rhaponticin  T2       1  \n",
       "...                               ...  ..     ...  \n",
       "2433                              代谢组  T1       0  \n",
       "2435                              代谢组  T1       0  \n",
       "2436                              代谢组  T1       0  \n",
       "2437                              代谢组  T1       0  \n",
       "2438                              代谢组  T1       0  \n",
       "\n",
       "[2435 rows x 5 columns]"
      ]
     },
     "execution_count": 3,
     "metadata": {},
     "output_type": "execute_result"
    }
   ],
   "source": [
    "import pandas as pd\n",
    "pd.set_option(\"display.max_colwidth\", 100)\n",
    "\n",
    "data = pd.read_csv(\"../data/prediction_data/test/T1_T2_test.csv\").drop_duplicates()#[1205:1212] # \n",
    "data"
   ]
  },
  {
   "cell_type": "code",
   "execution_count": 4,
   "metadata": {
    "deletable": true,
    "editable": true,
    "execution": {
     "iopub.execute_input": "2025-01-23T02:30:34.341786Z",
     "iopub.status.busy": "2025-01-23T02:30:34.341392Z",
     "iopub.status.idle": "2025-01-23T02:37:05.839000Z",
     "shell.execute_reply": "2025-01-23T02:37:05.837890Z",
     "shell.execute_reply.started": "2025-01-23T02:30:34.341754Z"
    },
    "frozen": false,
    "scrolled": true
   },
   "outputs": [
    {
     "name": "stdout",
     "output_type": "stream",
     "text": [
      "Step 1/2: Preprocessing: Calculating input embeddings.\n",
      ".....1(a) Calculating protein embeddings\n",
      "./data/temp_embeddings\n"
     ]
    },
    {
     "name": "stderr",
     "output_type": "stream",
     "text": [
      "[10:30:34] ERROR: \n",
      "\n"
     ]
    },
    {
     "name": "stdout",
     "output_type": "stream",
     "text": [
      "Transferred model to GPU\n",
      ".....1(b) Calculating SMILES embeddings\n",
      "./data/temp_embeddings\n",
      "Step 2/2: Making predictions for ESP.\n",
      "Step 1/2: Preprocessing: Calculating input embeddings.\n",
      ".....1(a) Calculating protein embeddings\n",
      "./data/temp_embeddings\n"
     ]
    },
    {
     "name": "stderr",
     "output_type": "stream",
     "text": [
      "[10:31:14] ERROR: \n",
      "\n"
     ]
    },
    {
     "name": "stdout",
     "output_type": "stream",
     "text": [
      "Transferred model to GPU\n",
      ".....1(b) Calculating SMILES embeddings\n",
      "./data/temp_embeddings\n",
      "Step 2/2: Making predictions for ESP.\n",
      "Step 1/2: Preprocessing: Calculating input embeddings.\n",
      ".....1(a) Calculating protein embeddings\n",
      "./data/temp_embeddings\n"
     ]
    },
    {
     "name": "stderr",
     "output_type": "stream",
     "text": [
      "[10:31:26] ERROR: \n",
      "\n"
     ]
    },
    {
     "name": "stdout",
     "output_type": "stream",
     "text": [
      "Transferred model to GPU\n",
      ".....1(b) Calculating SMILES embeddings\n",
      "./data/temp_embeddings\n",
      "Step 2/2: Making predictions for ESP.\n",
      "Step 1/2: Preprocessing: Calculating input embeddings.\n",
      ".....1(a) Calculating protein embeddings\n",
      "./data/temp_embeddings\n"
     ]
    },
    {
     "name": "stderr",
     "output_type": "stream",
     "text": [
      "[10:31:36] ERROR: \n",
      "\n"
     ]
    },
    {
     "name": "stdout",
     "output_type": "stream",
     "text": [
      "Transferred model to GPU\n",
      ".....1(b) Calculating SMILES embeddings\n",
      "./data/temp_embeddings\n",
      "Step 2/2: Making predictions for ESP.\n",
      "Step 1/2: Preprocessing: Calculating input embeddings.\n",
      ".....1(a) Calculating protein embeddings\n",
      "./data/temp_embeddings\n"
     ]
    },
    {
     "name": "stderr",
     "output_type": "stream",
     "text": [
      "[10:31:46] ERROR: \n",
      "\n"
     ]
    },
    {
     "name": "stdout",
     "output_type": "stream",
     "text": [
      "Transferred model to GPU\n",
      ".....1(b) Calculating SMILES embeddings\n",
      "./data/temp_embeddings\n",
      "Step 2/2: Making predictions for ESP.\n",
      "Step 1/2: Preprocessing: Calculating input embeddings.\n",
      ".....1(a) Calculating protein embeddings\n",
      "./data/temp_embeddings\n"
     ]
    },
    {
     "name": "stderr",
     "output_type": "stream",
     "text": [
      "[10:31:55] ERROR: \n",
      "\n"
     ]
    },
    {
     "name": "stdout",
     "output_type": "stream",
     "text": [
      "Transferred model to GPU\n",
      ".....1(b) Calculating SMILES embeddings\n",
      "./data/temp_embeddings\n",
      "Step 2/2: Making predictions for ESP.\n",
      "Step 1/2: Preprocessing: Calculating input embeddings.\n",
      ".....1(a) Calculating protein embeddings\n",
      "./data/temp_embeddings\n"
     ]
    },
    {
     "name": "stderr",
     "output_type": "stream",
     "text": [
      "[10:32:05] ERROR: \n",
      "\n"
     ]
    },
    {
     "name": "stdout",
     "output_type": "stream",
     "text": [
      "Transferred model to GPU\n",
      ".....1(b) Calculating SMILES embeddings\n",
      "./data/temp_embeddings\n",
      "Step 2/2: Making predictions for ESP.\n",
      "Step 1/2: Preprocessing: Calculating input embeddings.\n",
      ".....1(a) Calculating protein embeddings\n",
      "./data/temp_embeddings\n"
     ]
    },
    {
     "name": "stderr",
     "output_type": "stream",
     "text": [
      "[10:32:15] ERROR: \n",
      "\n"
     ]
    },
    {
     "name": "stdout",
     "output_type": "stream",
     "text": [
      "Transferred model to GPU\n",
      ".....1(b) Calculating SMILES embeddings\n",
      "./data/temp_embeddings\n",
      "Step 2/2: Making predictions for ESP.\n",
      "Step 1/2: Preprocessing: Calculating input embeddings.\n",
      ".....1(a) Calculating protein embeddings\n",
      "./data/temp_embeddings\n"
     ]
    },
    {
     "name": "stderr",
     "output_type": "stream",
     "text": [
      "[10:32:24] ERROR: \n",
      "\n"
     ]
    },
    {
     "name": "stdout",
     "output_type": "stream",
     "text": [
      "Transferred model to GPU\n",
      ".....1(b) Calculating SMILES embeddings\n",
      "./data/temp_embeddings\n",
      "Step 2/2: Making predictions for ESP.\n",
      "Step 1/2: Preprocessing: Calculating input embeddings.\n",
      ".....1(a) Calculating protein embeddings\n",
      "./data/temp_embeddings\n"
     ]
    },
    {
     "name": "stderr",
     "output_type": "stream",
     "text": [
      "[10:32:34] ERROR: \n",
      "\n"
     ]
    },
    {
     "name": "stdout",
     "output_type": "stream",
     "text": [
      "Transferred model to GPU\n",
      ".....1(b) Calculating SMILES embeddings\n",
      "./data/temp_embeddings\n",
      "Step 2/2: Making predictions for ESP.\n",
      "Step 1/2: Preprocessing: Calculating input embeddings.\n",
      ".....1(a) Calculating protein embeddings\n",
      "./data/temp_embeddings\n"
     ]
    },
    {
     "name": "stderr",
     "output_type": "stream",
     "text": [
      "[10:32:43] ERROR: \n",
      "\n"
     ]
    },
    {
     "name": "stdout",
     "output_type": "stream",
     "text": [
      "Transferred model to GPU\n",
      ".....1(b) Calculating SMILES embeddings\n",
      "./data/temp_embeddings\n",
      "Step 2/2: Making predictions for ESP.\n",
      "Step 1/2: Preprocessing: Calculating input embeddings.\n",
      ".....1(a) Calculating protein embeddings\n",
      "./data/temp_embeddings\n"
     ]
    },
    {
     "name": "stderr",
     "output_type": "stream",
     "text": [
      "[10:32:53] ERROR: \n",
      "\n"
     ]
    },
    {
     "name": "stdout",
     "output_type": "stream",
     "text": [
      "Transferred model to GPU\n",
      ".....1(b) Calculating SMILES embeddings\n",
      "./data/temp_embeddings\n",
      "Step 2/2: Making predictions for ESP.\n",
      "Step 1/2: Preprocessing: Calculating input embeddings.\n",
      ".....1(a) Calculating protein embeddings\n",
      "./data/temp_embeddings\n"
     ]
    },
    {
     "name": "stderr",
     "output_type": "stream",
     "text": [
      "[10:33:02] ERROR: \n",
      "\n"
     ]
    },
    {
     "name": "stdout",
     "output_type": "stream",
     "text": [
      "Transferred model to GPU\n",
      ".....1(b) Calculating SMILES embeddings\n",
      "./data/temp_embeddings\n",
      "Step 2/2: Making predictions for ESP.\n",
      "Step 1/2: Preprocessing: Calculating input embeddings.\n",
      ".....1(a) Calculating protein embeddings\n",
      "./data/temp_embeddings\n"
     ]
    },
    {
     "name": "stderr",
     "output_type": "stream",
     "text": [
      "[10:33:12] ERROR: \n",
      "\n"
     ]
    },
    {
     "name": "stdout",
     "output_type": "stream",
     "text": [
      "Transferred model to GPU\n",
      ".....1(b) Calculating SMILES embeddings\n",
      "./data/temp_embeddings\n",
      "Step 2/2: Making predictions for ESP.\n",
      "Step 1/2: Preprocessing: Calculating input embeddings.\n",
      ".....1(a) Calculating protein embeddings\n",
      "./data/temp_embeddings\n"
     ]
    },
    {
     "name": "stderr",
     "output_type": "stream",
     "text": [
      "[10:33:21] ERROR: \n",
      "\n"
     ]
    },
    {
     "name": "stdout",
     "output_type": "stream",
     "text": [
      "Transferred model to GPU\n",
      ".....1(b) Calculating SMILES embeddings\n",
      "./data/temp_embeddings\n",
      "Step 2/2: Making predictions for ESP.\n",
      "Step 1/2: Preprocessing: Calculating input embeddings.\n",
      ".....1(a) Calculating protein embeddings\n",
      "./data/temp_embeddings\n"
     ]
    },
    {
     "name": "stderr",
     "output_type": "stream",
     "text": [
      "[10:33:31] ERROR: \n",
      "\n"
     ]
    },
    {
     "name": "stdout",
     "output_type": "stream",
     "text": [
      "Transferred model to GPU\n",
      ".....1(b) Calculating SMILES embeddings\n",
      "./data/temp_embeddings\n",
      "Step 2/2: Making predictions for ESP.\n",
      "Step 1/2: Preprocessing: Calculating input embeddings.\n",
      ".....1(a) Calculating protein embeddings\n",
      "./data/temp_embeddings\n"
     ]
    },
    {
     "name": "stderr",
     "output_type": "stream",
     "text": [
      "[10:33:40] ERROR: \n",
      "\n"
     ]
    },
    {
     "name": "stdout",
     "output_type": "stream",
     "text": [
      "Transferred model to GPU\n",
      ".....1(b) Calculating SMILES embeddings\n",
      "./data/temp_embeddings\n",
      "Step 2/2: Making predictions for ESP.\n",
      "Step 1/2: Preprocessing: Calculating input embeddings.\n",
      ".....1(a) Calculating protein embeddings\n",
      "./data/temp_embeddings\n"
     ]
    },
    {
     "name": "stderr",
     "output_type": "stream",
     "text": [
      "[10:33:50] ERROR: \n",
      "\n"
     ]
    },
    {
     "name": "stdout",
     "output_type": "stream",
     "text": [
      "Transferred model to GPU\n",
      ".....1(b) Calculating SMILES embeddings\n",
      "./data/temp_embeddings\n",
      "Step 2/2: Making predictions for ESP.\n",
      "Step 1/2: Preprocessing: Calculating input embeddings.\n",
      ".....1(a) Calculating protein embeddings\n",
      "./data/temp_embeddings\n"
     ]
    },
    {
     "name": "stderr",
     "output_type": "stream",
     "text": [
      "[10:34:00] ERROR: \n",
      "\n"
     ]
    },
    {
     "name": "stdout",
     "output_type": "stream",
     "text": [
      "Transferred model to GPU\n",
      ".....1(b) Calculating SMILES embeddings\n",
      "./data/temp_embeddings\n",
      "Step 2/2: Making predictions for ESP.\n",
      "Step 1/2: Preprocessing: Calculating input embeddings.\n",
      ".....1(a) Calculating protein embeddings\n",
      "./data/temp_embeddings\n"
     ]
    },
    {
     "name": "stderr",
     "output_type": "stream",
     "text": [
      "[10:34:09] ERROR: \n",
      "\n"
     ]
    },
    {
     "name": "stdout",
     "output_type": "stream",
     "text": [
      "Transferred model to GPU\n",
      ".....1(b) Calculating SMILES embeddings\n",
      "./data/temp_embeddings\n",
      "Step 2/2: Making predictions for ESP.\n",
      "Step 1/2: Preprocessing: Calculating input embeddings.\n",
      ".....1(a) Calculating protein embeddings\n",
      "./data/temp_embeddings\n"
     ]
    },
    {
     "name": "stderr",
     "output_type": "stream",
     "text": [
      "[10:34:19] ERROR: \n",
      "\n"
     ]
    },
    {
     "name": "stdout",
     "output_type": "stream",
     "text": [
      "Transferred model to GPU\n",
      ".....1(b) Calculating SMILES embeddings\n",
      "./data/temp_embeddings\n",
      "Step 2/2: Making predictions for ESP.\n",
      "Step 1/2: Preprocessing: Calculating input embeddings.\n",
      ".....1(a) Calculating protein embeddings\n",
      "./data/temp_embeddings\n"
     ]
    },
    {
     "name": "stderr",
     "output_type": "stream",
     "text": [
      "[10:34:30] ERROR: \n",
      "\n"
     ]
    },
    {
     "name": "stdout",
     "output_type": "stream",
     "text": [
      "Transferred model to GPU\n",
      ".....1(b) Calculating SMILES embeddings\n",
      "./data/temp_embeddings\n",
      "Step 2/2: Making predictions for ESP.\n",
      "Step 1/2: Preprocessing: Calculating input embeddings.\n",
      ".....1(a) Calculating protein embeddings\n",
      "./data/temp_embeddings\n"
     ]
    },
    {
     "name": "stderr",
     "output_type": "stream",
     "text": [
      "[10:34:40] ERROR: \n",
      "\n"
     ]
    },
    {
     "name": "stdout",
     "output_type": "stream",
     "text": [
      "Transferred model to GPU\n",
      ".....1(b) Calculating SMILES embeddings\n",
      "./data/temp_embeddings\n",
      "Step 2/2: Making predictions for ESP.\n",
      "Step 1/2: Preprocessing: Calculating input embeddings.\n",
      ".....1(a) Calculating protein embeddings\n",
      "./data/temp_embeddings\n"
     ]
    },
    {
     "name": "stderr",
     "output_type": "stream",
     "text": [
      "[10:34:50] ERROR: \n",
      "\n"
     ]
    },
    {
     "name": "stdout",
     "output_type": "stream",
     "text": [
      "Transferred model to GPU\n",
      ".....1(b) Calculating SMILES embeddings\n",
      "./data/temp_embeddings\n",
      "Step 2/2: Making predictions for ESP.\n",
      "Step 1/2: Preprocessing: Calculating input embeddings.\n",
      ".....1(a) Calculating protein embeddings\n",
      "./data/temp_embeddings\n"
     ]
    },
    {
     "name": "stderr",
     "output_type": "stream",
     "text": [
      "[10:35:00] ERROR: \n",
      "\n"
     ]
    },
    {
     "name": "stdout",
     "output_type": "stream",
     "text": [
      "Transferred model to GPU\n",
      ".....1(b) Calculating SMILES embeddings\n",
      "./data/temp_embeddings\n",
      "Step 2/2: Making predictions for ESP.\n",
      "Step 1/2: Preprocessing: Calculating input embeddings.\n",
      ".....1(a) Calculating protein embeddings\n",
      "./data/temp_embeddings\n"
     ]
    },
    {
     "name": "stderr",
     "output_type": "stream",
     "text": [
      "[10:35:10] ERROR: \n",
      "\n"
     ]
    },
    {
     "name": "stdout",
     "output_type": "stream",
     "text": [
      "Transferred model to GPU\n",
      ".....1(b) Calculating SMILES embeddings\n",
      "./data/temp_embeddings\n",
      "Step 2/2: Making predictions for ESP.\n",
      "Step 1/2: Preprocessing: Calculating input embeddings.\n",
      ".....1(a) Calculating protein embeddings\n",
      "./data/temp_embeddings\n"
     ]
    },
    {
     "name": "stderr",
     "output_type": "stream",
     "text": [
      "[10:35:20] ERROR: \n",
      "\n"
     ]
    },
    {
     "name": "stdout",
     "output_type": "stream",
     "text": [
      "Transferred model to GPU\n",
      ".....1(b) Calculating SMILES embeddings\n",
      "./data/temp_embeddings\n",
      "Step 2/2: Making predictions for ESP.\n",
      "Step 1/2: Preprocessing: Calculating input embeddings.\n",
      ".....1(a) Calculating protein embeddings\n",
      "./data/temp_embeddings\n"
     ]
    },
    {
     "name": "stderr",
     "output_type": "stream",
     "text": [
      "[10:35:31] ERROR: \n",
      "\n"
     ]
    },
    {
     "name": "stdout",
     "output_type": "stream",
     "text": [
      "Transferred model to GPU\n",
      ".....1(b) Calculating SMILES embeddings\n",
      "./data/temp_embeddings\n",
      "Step 2/2: Making predictions for ESP.\n",
      "Step 1/2: Preprocessing: Calculating input embeddings.\n",
      ".....1(a) Calculating protein embeddings\n",
      "./data/temp_embeddings\n"
     ]
    },
    {
     "name": "stderr",
     "output_type": "stream",
     "text": [
      "[10:35:41] ERROR: \n",
      "\n"
     ]
    },
    {
     "name": "stdout",
     "output_type": "stream",
     "text": [
      "Transferred model to GPU\n",
      ".....1(b) Calculating SMILES embeddings\n",
      "./data/temp_embeddings\n",
      "Step 2/2: Making predictions for ESP.\n",
      "Step 1/2: Preprocessing: Calculating input embeddings.\n",
      ".....1(a) Calculating protein embeddings\n",
      "./data/temp_embeddings\n"
     ]
    },
    {
     "name": "stderr",
     "output_type": "stream",
     "text": [
      "[10:35:51] ERROR: \n",
      "\n"
     ]
    },
    {
     "name": "stdout",
     "output_type": "stream",
     "text": [
      "Transferred model to GPU\n",
      ".....1(b) Calculating SMILES embeddings\n",
      "./data/temp_embeddings\n",
      "Step 2/2: Making predictions for ESP.\n",
      "Step 1/2: Preprocessing: Calculating input embeddings.\n",
      ".....1(a) Calculating protein embeddings\n",
      "./data/temp_embeddings\n"
     ]
    },
    {
     "name": "stderr",
     "output_type": "stream",
     "text": [
      "[10:36:01] ERROR: \n",
      "\n"
     ]
    },
    {
     "name": "stdout",
     "output_type": "stream",
     "text": [
      "Transferred model to GPU\n",
      ".....1(b) Calculating SMILES embeddings\n",
      "./data/temp_embeddings\n",
      "Step 2/2: Making predictions for ESP.\n",
      "Step 1/2: Preprocessing: Calculating input embeddings.\n",
      ".....1(a) Calculating protein embeddings\n",
      "./data/temp_embeddings\n"
     ]
    },
    {
     "name": "stderr",
     "output_type": "stream",
     "text": [
      "[10:36:10] ERROR: \n",
      "\n"
     ]
    },
    {
     "name": "stdout",
     "output_type": "stream",
     "text": [
      "Transferred model to GPU\n",
      ".....1(b) Calculating SMILES embeddings\n",
      "./data/temp_embeddings\n",
      "Step 2/2: Making predictions for ESP.\n",
      "Step 1/2: Preprocessing: Calculating input embeddings.\n",
      ".....1(a) Calculating protein embeddings\n",
      "./data/temp_embeddings\n"
     ]
    },
    {
     "name": "stderr",
     "output_type": "stream",
     "text": [
      "[10:36:21] ERROR: \n",
      "\n"
     ]
    },
    {
     "name": "stdout",
     "output_type": "stream",
     "text": [
      "Transferred model to GPU\n",
      ".....1(b) Calculating SMILES embeddings\n",
      "./data/temp_embeddings\n",
      "Step 2/2: Making predictions for ESP.\n",
      "Step 1/2: Preprocessing: Calculating input embeddings.\n",
      ".....1(a) Calculating protein embeddings\n",
      "./data/temp_embeddings\n"
     ]
    },
    {
     "name": "stderr",
     "output_type": "stream",
     "text": [
      "[10:36:31] ERROR: \n",
      "\n"
     ]
    },
    {
     "name": "stdout",
     "output_type": "stream",
     "text": [
      "Transferred model to GPU\n",
      ".....1(b) Calculating SMILES embeddings\n",
      "./data/temp_embeddings\n",
      "Step 2/2: Making predictions for ESP.\n",
      "Step 1/2: Preprocessing: Calculating input embeddings.\n",
      ".....1(a) Calculating protein embeddings\n",
      "./data/temp_embeddings\n"
     ]
    },
    {
     "name": "stderr",
     "output_type": "stream",
     "text": [
      "[10:36:42] ERROR: \n",
      "\n"
     ]
    },
    {
     "name": "stdout",
     "output_type": "stream",
     "text": [
      "Transferred model to GPU\n",
      ".....1(b) Calculating SMILES embeddings\n",
      "./data/temp_embeddings\n",
      "Step 2/2: Making predictions for ESP.\n",
      "Error:list index out of range\n",
      "Step 1/2: Preprocessing: Calculating input embeddings.\n",
      ".....1(a) Calculating protein embeddings\n",
      "./data/temp_embeddings\n"
     ]
    },
    {
     "name": "stderr",
     "output_type": "stream",
     "text": [
      "[10:36:52] ERROR: \n",
      "\n"
     ]
    },
    {
     "name": "stdout",
     "output_type": "stream",
     "text": [
      "Transferred model to GPU\n",
      ".....1(b) Calculating SMILES embeddings\n",
      "./data/temp_embeddings\n",
      "Step 2/2: Making predictions for ESP.\n",
      "Error:integer division or modulo by zero\n",
      "Step 1/2: Preprocessing: Calculating input embeddings.\n",
      ".....1(a) Calculating protein embeddings\n",
      "./data/temp_embeddings\n"
     ]
    },
    {
     "name": "stderr",
     "output_type": "stream",
     "text": [
      "[10:37:02] ERROR: \n",
      "\n"
     ]
    },
    {
     "ename": "KeyboardInterrupt",
     "evalue": "",
     "output_type": "error",
     "traceback": [
      "\u001b[0;31m---------------------------------------------------------------------------\u001b[0m",
      "\u001b[0;31mKeyboardInterrupt\u001b[0m                         Traceback (most recent call last)",
      "Cell \u001b[0;32mIn[4], line 12\u001b[0m\n\u001b[1;32m      9\u001b[0m     \u001b[38;5;28;01melse\u001b[39;00m:\n\u001b[1;32m     10\u001b[0m         \u001b[38;5;28;01mreturn\u001b[39;00m \u001b[38;5;124m\"\u001b[39m\u001b[38;5;124mNo result\u001b[39m\u001b[38;5;124m\"\u001b[39m, \u001b[38;5;124m\"\u001b[39m\u001b[38;5;124mNo result\u001b[39m\u001b[38;5;124m\"\u001b[39m\n\u001b[0;32m---> 12\u001b[0m data[[\u001b[38;5;124m'\u001b[39m\u001b[38;5;124mvalid input\u001b[39m\u001b[38;5;124m'\u001b[39m, \u001b[38;5;124m\"\u001b[39m\u001b[38;5;124mPrediction score\u001b[39m\u001b[38;5;124m\"\u001b[39m]] \u001b[38;5;241m=\u001b[39m \u001b[43mdata\u001b[49m\u001b[38;5;241;43m.\u001b[39;49m\u001b[43mapply\u001b[49m\u001b[43m(\u001b[49m\u001b[43mcalculate_ESP_predicton\u001b[49m\u001b[43m,\u001b[49m\u001b[43m \u001b[49m\u001b[43maxis\u001b[49m\u001b[38;5;241;43m=\u001b[39;49m\u001b[38;5;241;43m1\u001b[39;49m\u001b[43m,\u001b[49m\u001b[43m \u001b[49m\u001b[43mresult_type\u001b[49m\u001b[38;5;241;43m=\u001b[39;49m\u001b[38;5;124;43m\"\u001b[39;49m\u001b[38;5;124;43mexpand\u001b[39;49m\u001b[38;5;124;43m\"\u001b[39;49m\u001b[43m)\u001b[49m\n\u001b[1;32m     13\u001b[0m data\n",
      "File \u001b[0;32m~/miniforge3/envs/ProSmi/lib/python3.8/site-packages/pandas/core/frame.py:9423\u001b[0m, in \u001b[0;36mDataFrame.apply\u001b[0;34m(self, func, axis, raw, result_type, args, **kwargs)\u001b[0m\n\u001b[1;32m   9412\u001b[0m \u001b[38;5;28;01mfrom\u001b[39;00m \u001b[38;5;21;01mpandas\u001b[39;00m\u001b[38;5;21;01m.\u001b[39;00m\u001b[38;5;21;01mcore\u001b[39;00m\u001b[38;5;21;01m.\u001b[39;00m\u001b[38;5;21;01mapply\u001b[39;00m \u001b[38;5;28;01mimport\u001b[39;00m frame_apply\n\u001b[1;32m   9414\u001b[0m op \u001b[38;5;241m=\u001b[39m frame_apply(\n\u001b[1;32m   9415\u001b[0m     \u001b[38;5;28mself\u001b[39m,\n\u001b[1;32m   9416\u001b[0m     func\u001b[38;5;241m=\u001b[39mfunc,\n\u001b[0;32m   (...)\u001b[0m\n\u001b[1;32m   9421\u001b[0m     kwargs\u001b[38;5;241m=\u001b[39mkwargs,\n\u001b[1;32m   9422\u001b[0m )\n\u001b[0;32m-> 9423\u001b[0m \u001b[38;5;28;01mreturn\u001b[39;00m \u001b[43mop\u001b[49m\u001b[38;5;241;43m.\u001b[39;49m\u001b[43mapply\u001b[49m\u001b[43m(\u001b[49m\u001b[43m)\u001b[49m\u001b[38;5;241m.\u001b[39m__finalize__(\u001b[38;5;28mself\u001b[39m, method\u001b[38;5;241m=\u001b[39m\u001b[38;5;124m\"\u001b[39m\u001b[38;5;124mapply\u001b[39m\u001b[38;5;124m\"\u001b[39m)\n",
      "File \u001b[0;32m~/miniforge3/envs/ProSmi/lib/python3.8/site-packages/pandas/core/apply.py:678\u001b[0m, in \u001b[0;36mFrameApply.apply\u001b[0;34m(self)\u001b[0m\n\u001b[1;32m    675\u001b[0m \u001b[38;5;28;01melif\u001b[39;00m \u001b[38;5;28mself\u001b[39m\u001b[38;5;241m.\u001b[39mraw:\n\u001b[1;32m    676\u001b[0m     \u001b[38;5;28;01mreturn\u001b[39;00m \u001b[38;5;28mself\u001b[39m\u001b[38;5;241m.\u001b[39mapply_raw()\n\u001b[0;32m--> 678\u001b[0m \u001b[38;5;28;01mreturn\u001b[39;00m \u001b[38;5;28;43mself\u001b[39;49m\u001b[38;5;241;43m.\u001b[39;49m\u001b[43mapply_standard\u001b[49m\u001b[43m(\u001b[49m\u001b[43m)\u001b[49m\n",
      "File \u001b[0;32m~/miniforge3/envs/ProSmi/lib/python3.8/site-packages/pandas/core/apply.py:798\u001b[0m, in \u001b[0;36mFrameApply.apply_standard\u001b[0;34m(self)\u001b[0m\n\u001b[1;32m    797\u001b[0m \u001b[38;5;28;01mdef\u001b[39;00m \u001b[38;5;21mapply_standard\u001b[39m(\u001b[38;5;28mself\u001b[39m):\n\u001b[0;32m--> 798\u001b[0m     results, res_index \u001b[38;5;241m=\u001b[39m \u001b[38;5;28;43mself\u001b[39;49m\u001b[38;5;241;43m.\u001b[39;49m\u001b[43mapply_series_generator\u001b[49m\u001b[43m(\u001b[49m\u001b[43m)\u001b[49m\n\u001b[1;32m    800\u001b[0m     \u001b[38;5;66;03m# wrap results\u001b[39;00m\n\u001b[1;32m    801\u001b[0m     \u001b[38;5;28;01mreturn\u001b[39;00m \u001b[38;5;28mself\u001b[39m\u001b[38;5;241m.\u001b[39mwrap_results(results, res_index)\n",
      "File \u001b[0;32m~/miniforge3/envs/ProSmi/lib/python3.8/site-packages/pandas/core/apply.py:814\u001b[0m, in \u001b[0;36mFrameApply.apply_series_generator\u001b[0;34m(self)\u001b[0m\n\u001b[1;32m    811\u001b[0m \u001b[38;5;28;01mwith\u001b[39;00m option_context(\u001b[38;5;124m\"\u001b[39m\u001b[38;5;124mmode.chained_assignment\u001b[39m\u001b[38;5;124m\"\u001b[39m, \u001b[38;5;28;01mNone\u001b[39;00m):\n\u001b[1;32m    812\u001b[0m     \u001b[38;5;28;01mfor\u001b[39;00m i, v \u001b[38;5;129;01min\u001b[39;00m \u001b[38;5;28menumerate\u001b[39m(series_gen):\n\u001b[1;32m    813\u001b[0m         \u001b[38;5;66;03m# ignore SettingWithCopy here in case the user mutates\u001b[39;00m\n\u001b[0;32m--> 814\u001b[0m         results[i] \u001b[38;5;241m=\u001b[39m \u001b[38;5;28;43mself\u001b[39;49m\u001b[38;5;241;43m.\u001b[39;49m\u001b[43mf\u001b[49m\u001b[43m(\u001b[49m\u001b[43mv\u001b[49m\u001b[43m)\u001b[49m\n\u001b[1;32m    815\u001b[0m         \u001b[38;5;28;01mif\u001b[39;00m \u001b[38;5;28misinstance\u001b[39m(results[i], ABCSeries):\n\u001b[1;32m    816\u001b[0m             \u001b[38;5;66;03m# If we have a view on v, we need to make a copy because\u001b[39;00m\n\u001b[1;32m    817\u001b[0m             \u001b[38;5;66;03m#  series_generator will swap out the underlying data\u001b[39;00m\n\u001b[1;32m    818\u001b[0m             results[i] \u001b[38;5;241m=\u001b[39m results[i]\u001b[38;5;241m.\u001b[39mcopy(deep\u001b[38;5;241m=\u001b[39m\u001b[38;5;28;01mFalse\u001b[39;00m)\n",
      "Cell \u001b[0;32mIn[4], line 2\u001b[0m, in \u001b[0;36mcalculate_ESP_predicton\u001b[0;34m(row)\u001b[0m\n\u001b[1;32m      1\u001b[0m \u001b[38;5;28;01mdef\u001b[39;00m \u001b[38;5;21mcalculate_ESP_predicton\u001b[39m(row):\n\u001b[0;32m----> 2\u001b[0m     pred_df \u001b[38;5;241m=\u001b[39m \u001b[43mESP_predicton\u001b[49m\u001b[43m(\u001b[49m\n\u001b[1;32m      3\u001b[0m \u001b[43m        \u001b[49m\u001b[43mmetabolite_list\u001b[49m\u001b[43m \u001b[49m\u001b[38;5;241;43m=\u001b[39;49m\u001b[43m \u001b[49m\u001b[43m[\u001b[49m\u001b[43mrow\u001b[49m\u001b[43m[\u001b[49m\u001b[38;5;124;43m\"\u001b[39;49m\u001b[38;5;124;43mMetabolite\u001b[39;49m\u001b[38;5;124;43m\"\u001b[39;49m\u001b[43m]\u001b[49m\u001b[43m]\u001b[49m\u001b[43m,\u001b[49m\n\u001b[1;32m      4\u001b[0m \u001b[43m        \u001b[49m\u001b[43menzyme_list\u001b[49m\u001b[43m \u001b[49m\u001b[38;5;241;43m=\u001b[39;49m\u001b[43m \u001b[49m\u001b[43m[\u001b[49m\u001b[43mrow\u001b[49m\u001b[43m[\u001b[49m\u001b[38;5;124;43m\"\u001b[39;49m\u001b[38;5;124;43mProtein\u001b[39;49m\u001b[38;5;124;43m\"\u001b[39;49m\u001b[43m]\u001b[49m\u001b[43m]\u001b[49m\n\u001b[1;32m      5\u001b[0m \u001b[43m             \u001b[49m\u001b[43m)\u001b[49m\n\u001b[1;32m      7\u001b[0m     \u001b[38;5;28;01mif\u001b[39;00m pred_df \u001b[38;5;129;01mis\u001b[39;00m \u001b[38;5;129;01mnot\u001b[39;00m \u001b[38;5;28;01mNone\u001b[39;00m:\n\u001b[1;32m      8\u001b[0m         \u001b[38;5;28;01mreturn\u001b[39;00m pred_df\u001b[38;5;241m.\u001b[39mloc[\u001b[38;5;241m0\u001b[39m, \u001b[38;5;124m\"\u001b[39m\u001b[38;5;124mvalid input\u001b[39m\u001b[38;5;124m\"\u001b[39m], pred_df\u001b[38;5;241m.\u001b[39mloc[\u001b[38;5;241m0\u001b[39m, \u001b[38;5;124m\"\u001b[39m\u001b[38;5;124mPrediction score\u001b[39m\u001b[38;5;124m\"\u001b[39m]\n",
      "File \u001b[0;32m/datb/yangbing/project/LLM/BAHD_ProSmith/prediction_code/code/prediction.py:26\u001b[0m, in \u001b[0;36mESP_predicton\u001b[0;34m(metabolite_list, enzyme_list)\u001b[0m\n\u001b[1;32m     23\u001b[0m df_ESP[\u001b[38;5;124m\"\u001b[39m\u001b[38;5;124mvalid\u001b[39m\u001b[38;5;124m\"\u001b[39m] \u001b[38;5;241m=\u001b[39m \u001b[38;5;28;01mTrue\u001b[39;00m\n\u001b[1;32m     25\u001b[0m \u001b[38;5;28mprint\u001b[39m(\u001b[38;5;124m\"\u001b[39m\u001b[38;5;124mStep 1/2: Preprocessing: Calculating input embeddings.\u001b[39m\u001b[38;5;124m\"\u001b[39m)\n\u001b[0;32m---> 26\u001b[0m df_ESP \u001b[38;5;241m=\u001b[39m \u001b[43mpreprocessing\u001b[49m\u001b[43m(\u001b[49m\u001b[43mdf\u001b[49m\u001b[43m \u001b[49m\u001b[38;5;241;43m=\u001b[39;49m\u001b[43m \u001b[49m\u001b[43mdf_ESP\u001b[49m\u001b[43m)\u001b[49m\n\u001b[1;32m     27\u001b[0m df_ESP_valid, df_ESP_invalid \u001b[38;5;241m=\u001b[39m df_ESP\u001b[38;5;241m.\u001b[39mloc[df_ESP[\u001b[38;5;124m\"\u001b[39m\u001b[38;5;124mvalid\u001b[39m\u001b[38;5;124m\"\u001b[39m]], df_ESP\u001b[38;5;241m.\u001b[39mloc[\u001b[38;5;241m~\u001b[39mdf_ESP[\u001b[38;5;124m\"\u001b[39m\u001b[38;5;124mvalid\u001b[39m\u001b[38;5;124m\"\u001b[39m]]\n\u001b[1;32m     28\u001b[0m df_ESP_valid\u001b[38;5;241m.\u001b[39mreset_index(inplace \u001b[38;5;241m=\u001b[39m \u001b[38;5;28;01mTrue\u001b[39;00m, drop \u001b[38;5;241m=\u001b[39m \u001b[38;5;28;01mTrue\u001b[39;00m)\n",
      "File \u001b[0;32m/datb/yangbing/project/LLM/BAHD_ProSmith/prediction_code/code/prediction.py:73\u001b[0m, in \u001b[0;36mpreprocessing\u001b[0;34m(df)\u001b[0m\n\u001b[1;32m     71\u001b[0m \u001b[38;5;66;03m#Calculate embeddings:\u001b[39;00m\n\u001b[1;32m     72\u001b[0m \u001b[38;5;28mprint\u001b[39m(\u001b[38;5;124m\"\u001b[39m\u001b[38;5;124m.....1(a) Calculating protein embeddings\u001b[39m\u001b[38;5;124m\"\u001b[39m)\n\u001b[0;32m---> 73\u001b[0m \u001b[43mcalculate_protein_embeddings\u001b[49m\u001b[43m(\u001b[49m\u001b[43mall_sequences\u001b[49m\u001b[43m,\u001b[49m\u001b[43m \u001b[49m\u001b[38;5;241;43m1000\u001b[39;49m\u001b[43m)\u001b[49m\n\u001b[1;32m     74\u001b[0m \u001b[38;5;28mprint\u001b[39m(\u001b[38;5;124m\"\u001b[39m\u001b[38;5;124m.....1(b) Calculating SMILES embeddings\u001b[39m\u001b[38;5;124m\"\u001b[39m)\n\u001b[1;32m     75\u001b[0m calculate_smiles_embeddings(all_smiles, \u001b[38;5;241m1000\u001b[39m)\n",
      "File \u001b[0;32m/datb/yangbing/project/LLM/BAHD_ProSmith/prediction_code/code/protein_embeddings.py:23\u001b[0m, in \u001b[0;36mcalculate_protein_embeddings\u001b[0;34m(all_sequences, prot_emb_no)\u001b[0m\n\u001b[1;32m     19\u001b[0m create_fasta_file(all_sequences, fasta_file)\n\u001b[1;32m     21\u001b[0m \u001b[38;5;66;03m# model, alphabet = esm.pretrained.load_model_and_alphabet_local(model_location = join(BASE_DIR, \"data\", \"saved_models\", \"ESM1b\", \"esm1b_t33_650M_UR50S.pt\"))\u001b[39;00m\n\u001b[1;32m     22\u001b[0m \u001b[38;5;66;03m# model, alphabet = pretrained.load_model_and_alphabet(\"../../code/preprocessing/esm1b_t33_650M_UR50S\")\u001b[39;00m\n\u001b[0;32m---> 23\u001b[0m model, alphabet \u001b[38;5;241m=\u001b[39m \u001b[43mesm\u001b[49m\u001b[38;5;241;43m.\u001b[39;49m\u001b[43mpretrained\u001b[49m\u001b[38;5;241;43m.\u001b[39;49m\u001b[43mload_model_and_alphabet_local\u001b[49m\u001b[43m(\u001b[49m\u001b[43mmodel_location\u001b[49m\u001b[43m \u001b[49m\u001b[38;5;241;43m=\u001b[39;49m\u001b[43m \u001b[49m\u001b[43mMODELS_DIR\u001b[49m\u001b[43m)\u001b[49m\n\u001b[1;32m     24\u001b[0m model\u001b[38;5;241m.\u001b[39meval()\n\u001b[1;32m     25\u001b[0m \u001b[38;5;28;01mif\u001b[39;00m torch\u001b[38;5;241m.\u001b[39mcuda\u001b[38;5;241m.\u001b[39mis_available():\n",
      "File \u001b[0;32m~/miniforge3/envs/ProSmi/lib/python3.8/site-packages/esm/pretrained.py:70\u001b[0m, in \u001b[0;36mload_model_and_alphabet_local\u001b[0;34m(model_location)\u001b[0m\n\u001b[1;32m     68\u001b[0m \u001b[38;5;250m\u001b[39m\u001b[38;5;124;03m\"\"\"Load from local path. The regression weights need to be co-located\"\"\"\u001b[39;00m\n\u001b[1;32m     69\u001b[0m model_location \u001b[38;5;241m=\u001b[39m Path(model_location)\n\u001b[0;32m---> 70\u001b[0m model_data \u001b[38;5;241m=\u001b[39m \u001b[43mtorch\u001b[49m\u001b[38;5;241;43m.\u001b[39;49m\u001b[43mload\u001b[49m\u001b[43m(\u001b[49m\u001b[38;5;28;43mstr\u001b[39;49m\u001b[43m(\u001b[49m\u001b[43mmodel_location\u001b[49m\u001b[43m)\u001b[49m\u001b[43m,\u001b[49m\u001b[43m \u001b[49m\u001b[43mmap_location\u001b[49m\u001b[38;5;241;43m=\u001b[39;49m\u001b[38;5;124;43m\"\u001b[39;49m\u001b[38;5;124;43mcpu\u001b[39;49m\u001b[38;5;124;43m\"\u001b[39;49m\u001b[43m)\u001b[49m\n\u001b[1;32m     71\u001b[0m model_name \u001b[38;5;241m=\u001b[39m model_location\u001b[38;5;241m.\u001b[39mstem\n\u001b[1;32m     72\u001b[0m \u001b[38;5;28;01mif\u001b[39;00m _has_regression_weights(model_name):\n",
      "File \u001b[0;32m~/miniforge3/envs/ProSmi/lib/python3.8/site-packages/torch/serialization.py:815\u001b[0m, in \u001b[0;36mload\u001b[0;34m(f, map_location, pickle_module, weights_only, **pickle_load_args)\u001b[0m\n\u001b[1;32m    813\u001b[0m     \u001b[38;5;28;01mexcept\u001b[39;00m \u001b[38;5;167;01mRuntimeError\u001b[39;00m \u001b[38;5;28;01mas\u001b[39;00m e:\n\u001b[1;32m    814\u001b[0m         \u001b[38;5;28;01mraise\u001b[39;00m pickle\u001b[38;5;241m.\u001b[39mUnpicklingError(UNSAFE_MESSAGE \u001b[38;5;241m+\u001b[39m \u001b[38;5;28mstr\u001b[39m(e)) \u001b[38;5;28;01mfrom\u001b[39;00m \u001b[38;5;28;01mNone\u001b[39;00m\n\u001b[0;32m--> 815\u001b[0m \u001b[38;5;28;01mreturn\u001b[39;00m \u001b[43m_legacy_load\u001b[49m\u001b[43m(\u001b[49m\u001b[43mopened_file\u001b[49m\u001b[43m,\u001b[49m\u001b[43m \u001b[49m\u001b[43mmap_location\u001b[49m\u001b[43m,\u001b[49m\u001b[43m \u001b[49m\u001b[43mpickle_module\u001b[49m\u001b[43m,\u001b[49m\u001b[43m \u001b[49m\u001b[38;5;241;43m*\u001b[39;49m\u001b[38;5;241;43m*\u001b[39;49m\u001b[43mpickle_load_args\u001b[49m\u001b[43m)\u001b[49m\n",
      "File \u001b[0;32m~/miniforge3/envs/ProSmi/lib/python3.8/site-packages/torch/serialization.py:1051\u001b[0m, in \u001b[0;36m_legacy_load\u001b[0;34m(f, map_location, pickle_module, **pickle_load_args)\u001b[0m\n\u001b[1;32m   1049\u001b[0m \u001b[38;5;28;01massert\u001b[39;00m key \u001b[38;5;129;01min\u001b[39;00m deserialized_objects\n\u001b[1;32m   1050\u001b[0m typed_storage \u001b[38;5;241m=\u001b[39m deserialized_objects[key]\n\u001b[0;32m-> 1051\u001b[0m \u001b[43mtyped_storage\u001b[49m\u001b[38;5;241;43m.\u001b[39;49m\u001b[43m_untyped_storage\u001b[49m\u001b[38;5;241;43m.\u001b[39;49m\u001b[43m_set_from_file\u001b[49m\u001b[43m(\u001b[49m\n\u001b[1;32m   1052\u001b[0m \u001b[43m    \u001b[49m\u001b[43mf\u001b[49m\u001b[43m,\u001b[49m\u001b[43m \u001b[49m\u001b[43moffset\u001b[49m\u001b[43m,\u001b[49m\u001b[43m \u001b[49m\u001b[43mf_should_read_directly\u001b[49m\u001b[43m,\u001b[49m\n\u001b[1;32m   1053\u001b[0m \u001b[43m    \u001b[49m\u001b[43mtorch\u001b[49m\u001b[38;5;241;43m.\u001b[39;49m\u001b[43m_utils\u001b[49m\u001b[38;5;241;43m.\u001b[39;49m\u001b[43m_element_size\u001b[49m\u001b[43m(\u001b[49m\u001b[43mtyped_storage\u001b[49m\u001b[38;5;241;43m.\u001b[39;49m\u001b[43mdtype\u001b[49m\u001b[43m)\u001b[49m\u001b[43m)\u001b[49m\n\u001b[1;32m   1054\u001b[0m \u001b[38;5;28;01mif\u001b[39;00m offset \u001b[38;5;129;01mis\u001b[39;00m \u001b[38;5;129;01mnot\u001b[39;00m \u001b[38;5;28;01mNone\u001b[39;00m:\n\u001b[1;32m   1055\u001b[0m     offset \u001b[38;5;241m=\u001b[39m f\u001b[38;5;241m.\u001b[39mtell()\n",
      "\u001b[0;31mKeyboardInterrupt\u001b[0m: "
     ]
    }
   ],
   "source": [
    "def calculate_ESP_predicton(row):\n",
    "    pred_df = ESP_predicton(\n",
    "        metabolite_list = [row[\"Metabolite\"]],\n",
    "        enzyme_list = [row[\"Protein\"]]\n",
    "             )\n",
    "    \n",
    "    if pred_df is not None:\n",
    "        return pred_df.loc[0, \"valid input\"], pred_df.loc[0, \"Prediction score\"]\n",
    "    else:\n",
    "        return \"No result\", \"No result\"\n",
    "\n",
    "data[['valid input', \"Prediction score\"]] = data.apply(calculate_ESP_predicton, axis=1, result_type=\"expand\")\n",
    "data"
   ]
  },
  {
   "cell_type": "code",
   "execution_count": 6,
   "metadata": {
    "deletable": false,
    "editable": false,
    "execution": {
     "iopub.execute_input": "2024-12-17T06:57:41.943673Z",
     "iopub.status.busy": "2024-12-17T06:57:41.943285Z",
     "iopub.status.idle": "2024-12-17T06:57:42.338725Z",
     "shell.execute_reply": "2024-12-17T06:57:42.337795Z",
     "shell.execute_reply.started": "2024-12-17T06:57:41.943634Z"
    },
    "frozen": true
   },
   "outputs": [],
   "source": [
    "data.to_excel('BAHD_results.xlsx', index=False)"
   ]
  },
  {
   "cell_type": "code",
   "execution_count": null,
   "metadata": {
    "deletable": true,
    "editable": true,
    "frozen": false
   },
   "outputs": [],
   "source": []
  }
 ],
 "metadata": {
  "kernelspec": {
   "display_name": "Python [conda env:ProSmi]",
   "language": "python",
   "name": "conda-env-ProSmi-py"
  },
  "language_info": {
   "codemirror_mode": {
    "name": "ipython",
    "version": 3
   },
   "file_extension": ".py",
   "mimetype": "text/x-python",
   "name": "python",
   "nbconvert_exporter": "python",
   "pygments_lexer": "ipython3",
   "version": "3.8.19"
  }
 },
 "nbformat": 4,
 "nbformat_minor": 2
}
